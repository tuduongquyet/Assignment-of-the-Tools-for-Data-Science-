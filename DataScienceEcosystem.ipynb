{
 "cells": [
  {
   "cell_type": "markdown",
   "id": "0af1e81e-5a9e-4de2-b7c9-7a58b8945cb5",
   "metadata": {},
   "source": [
    "# Data Science Tools and Ecosystem\n",
    "In this notebook, Data Science Tools and Ecosystem are summarized."
   ]
  },
  {
   "cell_type": "markdown",
   "id": "3790b5ef-eb78-4529-a4ec-5dab8bceba77",
   "metadata": {},
   "source": [
    "Some of the popular languages that Data Scientists use are:\n",
    "\n",
    "1. Python\n",
    "2. R\n",
    "3. SQL\n",
    "4. C++\n",
    "5. Java "
   ]
  },
  {
   "cell_type": "markdown",
   "id": "193aed1f-ef32-4fea-a3ca-17c429ea1605",
   "metadata": {},
   "source": [
    "Some of the commonly used libraries used by Data Scientists include:\n",
    "\n",
    "1. TensorFlow\n",
    "2. NumPy \n",
    "3. SciPy\n",
    "4. Pandas\n",
    "5. Keras\n",
    "6. Matplotlib\n",
    "7. SciKit-Learn\n",
    "8. PyTorch"
   ]
  },
  {
   "cell_type": "markdown",
   "id": "2cdf9b3f-e46e-492d-931a-38ee8c3dbcea",
   "metadata": {},
   "source": [
    "|Data Science tools|\n",
    "|---|\n",
    "|SAS|\n",
    "|Apache Hadoop|\n",
    "|TensorFlow|"
   ]
  },
  {
   "cell_type": "markdown",
   "id": "1cfde697-9380-4500-838a-f0d3b9a31d4a",
   "metadata": {},
   "source": [
    "### Below are a few examples of evaluating arithmetic expressions in Python:"
   ]
  },
  {
   "cell_type": "code",
   "execution_count": 2,
   "id": "807d6271-9209-4e9e-a280-b2abc65f1023",
   "metadata": {},
   "outputs": [
    {
     "data": {
      "text/plain": [
       "17"
      ]
     },
     "execution_count": 2,
     "metadata": {},
     "output_type": "execute_result"
    }
   ],
   "source": [
    "# This a simple arithmetic expression to mutiply then add integers\n",
    "(3*4)+5"
   ]
  },
  {
   "cell_type": "code",
   "execution_count": 3,
   "id": "f18b5e05-7a86-443e-bf23-b2b4c3e4c952",
   "metadata": {},
   "outputs": [
    {
     "data": {
      "text/plain": [
       "3.3333333333333335"
      ]
     },
     "execution_count": 3,
     "metadata": {},
     "output_type": "execute_result"
    }
   ],
   "source": [
    "#  This will convert 200 minutes to hours by diving by 60\n",
    "200/60"
   ]
  },
  {
   "cell_type": "markdown",
   "id": "e60147ae-8f13-49ea-a3db-a6bee3ee946f",
   "metadata": {},
   "source": [
    "**Objective**\n",
    "* List data science languages.\n",
    "* List data science libraries. \n",
    "* Table of Data Science tools.\n",
    "* Introducing arithmetic expression examples.\n",
    "* Multiply and add numbers.\n"
   ]
  },
  {
   "cell_type": "markdown",
   "id": "086a2069-c7f8-48e1-a56d-94f040b4c7f8",
   "metadata": {},
   "source": [
    "## Author\n",
    "Tu Duong Quyet"
   ]
  }
 ],
 "metadata": {
  "kernelspec": {
   "display_name": "Python 3 (ipykernel)",
   "language": "python",
   "name": "python3"
  },
  "language_info": {
   "codemirror_mode": {
    "name": "ipython",
    "version": 3
   },
   "file_extension": ".py",
   "mimetype": "text/x-python",
   "name": "python",
   "nbconvert_exporter": "python",
   "pygments_lexer": "ipython3",
   "version": "3.11.9"
  }
 },
 "nbformat": 4,
 "nbformat_minor": 5
}
